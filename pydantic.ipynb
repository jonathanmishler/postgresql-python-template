{
 "metadata": {
  "language_info": {
   "codemirror_mode": {
    "name": "ipython",
    "version": 3
   },
   "file_extension": ".py",
   "mimetype": "text/x-python",
   "name": "python",
   "nbconvert_exporter": "python",
   "pygments_lexer": "ipython3",
   "version": "3.8.5"
  },
  "orig_nbformat": 4,
  "kernelspec": {
   "name": "python3",
   "display_name": "Python 3.8.5 64-bit ('.venv': venv)"
  },
  "interpreter": {
   "hash": "f519ca3b35ffabfe7241933560f1e9f99dc789d3c98ab339708df304416715d6"
  }
 },
 "nbformat": 4,
 "nbformat_minor": 2,
 "cells": [
  {
   "cell_type": "code",
   "execution_count": 1,
   "metadata": {},
   "outputs": [],
   "source": [
    "from pydantic import BaseModel, Field\n",
    "from db_utils.connect import connection\n",
    "from db_utils.tables import *"
   ]
  },
  {
   "cell_type": "code",
   "execution_count": 2,
   "metadata": {},
   "outputs": [
    {
     "output_type": "stream",
     "name": "stdout",
     "text": [
      "CREATE TABLE IF NOT EXISTS user (id SERIAL NOT NULL, name VARCHAR(255) NOT NULL UNIQUE, title VARCHAR(255) DEFAULT \"Sales Clerk\", active BOOLEAN NOT NULL, decimal FLOAT4 NOT NULL, number INT4 NOT NULL, PRIMARY KEY (id, name))\n"
     ]
    }
   ],
   "source": [
    "class User(BaseModel):\n",
    "    id: int\n",
    "    name: str = Field(..., max_length=50)\n",
    "    title: str = \"Sales Clerk\"\n",
    "    active: bool\n",
    "    decimal: float\n",
    "    number: int\n",
    "\n",
    "    class Config:\n",
    "        schema_extra = {\"primary_key\": [\"id\", \"name\"], \"unique\": [\"name\"], \"serial\": [\"id\"]}\n",
    "\n",
    "\n",
    "print(sql_from_schema(User.schema()))"
   ]
  },
  {
   "cell_type": "code",
   "execution_count": null,
   "metadata": {},
   "outputs": [],
   "source": []
  }
 ]
}