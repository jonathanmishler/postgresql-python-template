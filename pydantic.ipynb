{
 "metadata": {
  "language_info": {
   "codemirror_mode": {
    "name": "ipython",
    "version": 3
   },
   "file_extension": ".py",
   "mimetype": "text/x-python",
   "name": "python",
   "nbconvert_exporter": "python",
   "pygments_lexer": "ipython3",
   "version": "3.8.1"
  },
  "orig_nbformat": 4,
  "kernelspec": {
   "name": "python3",
   "display_name": "Python 3.8.1 64-bit ('.venv': venv)"
  },
  "interpreter": {
   "hash": "b00f59c66e7cfc5a95ddbc5414f62a61725117bd7bf33aed1edff04338bc70f1"
  }
 },
 "nbformat": 4,
 "nbformat_minor": 2,
 "cells": [
  {
   "cell_type": "code",
   "execution_count": 20,
   "metadata": {},
   "outputs": [],
   "source": [
    "from pydantic import BaseModel, Field\n",
    "from db_utils.connect import connection"
   ]
  },
  {
   "cell_type": "code",
   "execution_count": 29,
   "metadata": {},
   "outputs": [],
   "source": [
    "class User(BaseModel):\n",
    "    id: int\n",
    "    name: str = Field(...,max_length=50)\n",
    "    active: bool\n",
    "\n",
    "    class Config:\n",
    "        schema_extra = {\n",
    "            'primary_key': ['id'],\n",
    "            'unique':['id']\n",
    "        }"
   ]
  },
  {
   "cell_type": "code",
   "execution_count": 30,
   "metadata": {},
   "outputs": [
    {
     "output_type": "execute_result",
     "data": {
      "text/plain": [
       "{'title': 'User',\n",
       " 'type': 'object',\n",
       " 'properties': {'id': {'title': 'Id', 'type': 'integer'},\n",
       "  'name': {'title': 'Name', 'maxLength': 50, 'type': 'string'},\n",
       "  'active': {'title': 'Active', 'type': 'boolean'}},\n",
       " 'required': ['id', 'name', 'active'],\n",
       " 'primary_key': ['id'],\n",
       " 'unique': ['id']}"
      ]
     },
     "metadata": {},
     "execution_count": 30
    }
   ],
   "source": [
    "x = User.schema()\n",
    "x"
   ]
  },
  {
   "cell_type": "code",
   "execution_count": 16,
   "metadata": {},
   "outputs": [],
   "source": [
    "table_name = x['title'].lower()"
   ]
  },
  {
   "cell_type": "code",
   "execution_count": 19,
   "metadata": {},
   "outputs": [
    {
     "output_type": "execute_result",
     "data": {
      "text/plain": [
       "dict_items([('id', {'title': 'Id', 'type': 'integer'}), ('name', {'title': 'Name', 'default': 'Jane Doe', 'type': 'string'})])"
      ]
     },
     "metadata": {},
     "execution_count": 19
    }
   ],
   "source": [
    "cols = x['properties']\n",
    "cols.items()"
   ]
  },
  {
   "cell_type": "code",
   "execution_count": 17,
   "metadata": {},
   "outputs": [
    {
     "output_type": "execute_result",
     "data": {
      "text/plain": [
       "'CREATE TABLE IF NOT EXISTS user (id serial PRIMARY KEY, num integer, data text)'"
      ]
     },
     "metadata": {},
     "execution_count": 17
    }
   ],
   "source": [
    "f\"CREATE TABLE IF NOT EXISTS {table_name} (id serial PRIMARY KEY, num integer, data text)\""
   ]
  },
  {
   "cell_type": "code",
   "execution_count": 8,
   "metadata": {},
   "outputs": [
    {
     "output_type": "execute_result",
     "data": {
      "text/plain": [
       "psycopg3.Cursor"
      ]
     },
     "metadata": {},
     "execution_count": 8
    }
   ],
   "source": [
    "type(connection().cursor())"
   ]
  },
  {
   "cell_type": "code",
   "execution_count": null,
   "metadata": {},
   "outputs": [],
   "source": []
  }
 ]
}